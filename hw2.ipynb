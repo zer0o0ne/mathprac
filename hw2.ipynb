{
 "cells": [
  {
   "cell_type": "code",
   "execution_count": 1,
   "id": "3e5c8119",
   "metadata": {},
   "outputs": [],
   "source": [
    "import numpy as np"
   ]
  },
  {
   "cell_type": "markdown",
   "id": "225267e3",
   "metadata": {},
   "source": [
    "### Создайте массив 10х10, заполненный в центре нулями, а по границе единицами."
   ]
  },
  {
   "cell_type": "code",
   "execution_count": 2,
   "id": "04419f60",
   "metadata": {},
   "outputs": [
    {
     "data": {
      "text/plain": [
       "array([[1., 1., 1., 1., 1., 1., 1., 1., 1., 1.],\n",
       "       [1., 0., 0., 0., 0., 0., 0., 0., 0., 1.],\n",
       "       [1., 0., 0., 0., 0., 0., 0., 0., 0., 1.],\n",
       "       [1., 0., 0., 0., 0., 0., 0., 0., 0., 1.],\n",
       "       [1., 0., 0., 0., 0., 0., 0., 0., 0., 1.],\n",
       "       [1., 0., 0., 0., 0., 0., 0., 0., 0., 1.],\n",
       "       [1., 0., 0., 0., 0., 0., 0., 0., 0., 1.],\n",
       "       [1., 0., 0., 0., 0., 0., 0., 0., 0., 1.],\n",
       "       [1., 0., 0., 0., 0., 0., 0., 0., 0., 1.],\n",
       "       [1., 1., 1., 1., 1., 1., 1., 1., 1., 1.]])"
      ]
     },
     "execution_count": 2,
     "metadata": {},
     "output_type": "execute_result"
    }
   ],
   "source": [
    "np.pad(np.zeros((8,8)), pad_width=1, mode='constant', constant_values=1)"
   ]
  },
  {
   "cell_type": "markdown",
   "id": "9043eed0",
   "metadata": {},
   "source": [
    "### Создайте массив 8х8, заполненный 0 и 1 в шахматном порядке."
   ]
  },
  {
   "cell_type": "code",
   "execution_count": 3,
   "id": "65201bf5",
   "metadata": {},
   "outputs": [
    {
     "data": {
      "text/plain": [
       "array([[0, 1, 0, 1, 0, 1, 0, 1],\n",
       "       [1, 0, 1, 0, 1, 0, 1, 0],\n",
       "       [0, 1, 0, 1, 0, 1, 0, 1],\n",
       "       [1, 0, 1, 0, 1, 0, 1, 0],\n",
       "       [0, 1, 0, 1, 0, 1, 0, 1],\n",
       "       [1, 0, 1, 0, 1, 0, 1, 0],\n",
       "       [0, 1, 0, 1, 0, 1, 0, 1],\n",
       "       [1, 0, 1, 0, 1, 0, 1, 0]])"
      ]
     },
     "execution_count": 3,
     "metadata": {},
     "output_type": "execute_result"
    }
   ],
   "source": [
    "(np.arange(72).reshape(8, -1) % 2)[::, 0:8]"
   ]
  },
  {
   "cell_type": "markdown",
   "id": "9e546671",
   "metadata": {},
   "source": [
    "### Создайте масив first_column из четырех элементов: 0, 10, 20, 30. Затем создайте двухмерный массив 4x5, в котором первый столбец - массив first_column, а каждый элемент каждой строки, начиная со второго,  больше предыдущего элемента этой же строки на 1."
   ]
  },
  {
   "cell_type": "code",
   "execution_count": 4,
   "id": "35571668",
   "metadata": {},
   "outputs": [
    {
     "ename": "NameError",
     "evalue": "name 'a' is not defined",
     "output_type": "error",
     "traceback": [
      "\u001b[0;31m---------------------------------------------------------------------------\u001b[0m",
      "\u001b[0;31mNameError\u001b[0m                                 Traceback (most recent call last)",
      "\u001b[0;32m/var/folders/sw/7tfvszxd05n_kz6zwmp_79dw0000gn/T/ipykernel_64031/1363530897.py\u001b[0m in \u001b[0;36m<module>\u001b[0;34m\u001b[0m\n\u001b[1;32m      1\u001b[0m \u001b[0mfirst_column\u001b[0m \u001b[0;34m=\u001b[0m \u001b[0mnp\u001b[0m\u001b[0;34m.\u001b[0m\u001b[0marange\u001b[0m\u001b[0;34m(\u001b[0m\u001b[0;36m0\u001b[0m\u001b[0;34m,\u001b[0m \u001b[0;36m31\u001b[0m\u001b[0;34m,\u001b[0m \u001b[0;36m10\u001b[0m\u001b[0;34m)\u001b[0m\u001b[0;34m\u001b[0m\u001b[0;34m\u001b[0m\u001b[0m\n\u001b[0;32m----> 2\u001b[0;31m \u001b[0mprint\u001b[0m\u001b[0;34m(\u001b[0m\u001b[0ma\u001b[0m\u001b[0;34m)\u001b[0m\u001b[0;34m\u001b[0m\u001b[0;34m\u001b[0m\u001b[0m\n\u001b[0m\u001b[1;32m      3\u001b[0m \u001b[0mprint\u001b[0m\u001b[0;34m(\u001b[0m\u001b[0;34m)\u001b[0m\u001b[0;34m\u001b[0m\u001b[0;34m\u001b[0m\u001b[0m\n\u001b[1;32m      4\u001b[0m \u001b[0mb\u001b[0m \u001b[0;34m=\u001b[0m \u001b[0mnp\u001b[0m\u001b[0;34m.\u001b[0m\u001b[0marray\u001b[0m\u001b[0;34m(\u001b[0m\u001b[0;34m[\u001b[0m\u001b[0mfirst_column\u001b[0m \u001b[0;34m+\u001b[0m \u001b[0mi\u001b[0m \u001b[0;32mfor\u001b[0m \u001b[0mi\u001b[0m \u001b[0;32min\u001b[0m \u001b[0mrange\u001b[0m\u001b[0;34m(\u001b[0m\u001b[0;36m5\u001b[0m\u001b[0;34m)\u001b[0m\u001b[0;34m]\u001b[0m\u001b[0;34m)\u001b[0m\u001b[0;34m.\u001b[0m\u001b[0mswapaxes\u001b[0m\u001b[0;34m(\u001b[0m\u001b[0;36m0\u001b[0m\u001b[0;34m,\u001b[0m \u001b[0;36m1\u001b[0m\u001b[0;34m)\u001b[0m\u001b[0;34m\u001b[0m\u001b[0;34m\u001b[0m\u001b[0m\n\u001b[1;32m      5\u001b[0m \u001b[0mprint\u001b[0m\u001b[0;34m(\u001b[0m\u001b[0mb\u001b[0m\u001b[0;34m)\u001b[0m\u001b[0;34m\u001b[0m\u001b[0;34m\u001b[0m\u001b[0m\n",
      "\u001b[0;31mNameError\u001b[0m: name 'a' is not defined"
     ]
    }
   ],
   "source": [
    "first_column = np.arange(0, 31, 10)\n",
    "print(a)\n",
    "print()\n",
    "b = np.array([first_column + i for i in range(5)]).swapaxes(0, 1)\n",
    "print(b)"
   ]
  },
  {
   "cell_type": "markdown",
   "id": "1b599b59",
   "metadata": {},
   "source": [
    "### Создайте случайный массив 5х5 и нормируйте его так, чтобы среднее по каждой строке было в точности ноль."
   ]
  },
  {
   "cell_type": "code",
   "execution_count": 5,
   "id": "940eb32a",
   "metadata": {},
   "outputs": [
    {
     "name": "stdout",
     "output_type": "stream",
     "text": [
      "[[0.71549032 0.21479552 0.06070883 0.4310589  0.34998912]\n",
      " [0.64728387 0.05544011 0.50177205 0.30878531 0.88191998]\n",
      " [0.6300666  0.95593247 0.52966663 0.33040556 0.94105639]\n",
      " [0.87243137 0.92588102 0.30785839 0.27665604 0.80880512]\n",
      " [0.16908571 0.92623339 0.38402145 0.14439758 0.61610853]]\n",
      "[-2.22044605e-17 -7.77156117e-17 -2.22044605e-17  2.22044605e-17\n",
      " -1.11022302e-17]\n",
      "[[ 0.36108178 -0.13961301 -0.29369971  0.07665036 -0.00441942]\n",
      " [ 0.16824361 -0.42360016  0.02273179 -0.17025495  0.40287972]\n",
      " [-0.04735893  0.27850694 -0.1477589  -0.34701997  0.26363086]\n",
      " [ 0.23410498  0.28755463 -0.330468   -0.36167035  0.17047873]\n",
      " [-0.27888362  0.47826406 -0.06394788 -0.30357175  0.16813919]]\n"
     ]
    }
   ],
   "source": [
    "a = np.random.rand(5, 5)\n",
    "print(a)\n",
    "a = a - a.mean(axis=1).reshape(5, -1)\n",
    "print(a.mean(axis=1))\n",
    "print(a)"
   ]
  },
  {
   "cell_type": "markdown",
   "id": "b79e8269",
   "metadata": {},
   "source": [
    "### Создайте произвольный двумерный массив NxM, N, M > 1. На его основе создайте новый двумерный массив, значения в котором являются средним значением исходного во всевозможных окошках размера 2х2 со сдвигом 1 по вертикали и горизонтали. "
   ]
  },
  {
   "cell_type": "code",
   "execution_count": 6,
   "id": "3da629d7",
   "metadata": {},
   "outputs": [
    {
     "name": "stdout",
     "output_type": "stream",
     "text": [
      "[[ 0  1  2  3  4  5  6  7  8  9 10 11 12]\n",
      " [13 14 15 16 17 18 19 20 21 22 23 24 25]\n",
      " [26 27 28 29 30 31 32 33 34 35 36 37 38]\n",
      " [39 40 41 42 43 44 45 46 47 48 49 50 51]\n",
      " [52 53 54 55 56 57 58 59 60 61 62 63 64]]\n",
      "[[ 7.  8.  9. 10. 11. 12. 13. 14. 15. 16. 17. 18.]\n",
      " [20. 21. 22. 23. 24. 25. 26. 27. 28. 29. 30. 31.]\n",
      " [33. 34. 35. 36. 37. 38. 39. 40. 41. 42. 43. 44.]\n",
      " [46. 47. 48. 49. 50. 51. 52. 53. 54. 55. 56. 57.]]\n"
     ]
    }
   ],
   "source": [
    "n = 5\n",
    "m = 13\n",
    "a = np.arange(n * m).reshape(n, -1)\n",
    "print(a)\n",
    "b = np.lib.stride_tricks.sliding_window_view(a, (n - 1, m - 1)).mean(axis=(0, 1))\n",
    "print(b)"
   ]
  },
  {
   "cell_type": "markdown",
   "id": "e526da1a",
   "metadata": {},
   "source": [
    "# Homework"
   ]
  },
  {
   "cell_type": "markdown",
   "id": "c6fce0c4",
   "metadata": {},
   "source": [
    "### 1. Создайте матрицу 5x5 со значениями 1,2,3,4 под главной диагональю. Остальные значения - нули."
   ]
  },
  {
   "cell_type": "code",
   "execution_count": 3,
   "id": "eb55f2bf",
   "metadata": {},
   "outputs": [
    {
     "name": "stdout",
     "output_type": "stream",
     "text": [
      "[[0 0 0 0 0]\n",
      " [1 0 0 0 0]\n",
      " [0 2 0 0 0]\n",
      " [0 0 3 0 0]\n",
      " [0 0 0 4 0]]\n"
     ]
    }
   ],
   "source": [
    "a = np.arange(1, 26).reshape((5, 5))\n",
    "mask = np.indices((5, 5))[0] - np.indices((5, 5))[1] == 1\n",
    "print((a % 5) * mask)"
   ]
  },
  {
   "cell_type": "markdown",
   "id": "775eb238",
   "metadata": {},
   "source": [
    "### 2. Создайте двумерный массив 10x3, заполненный случайными значениями. В каждой строке выберите значение, наиболее близкое к 0.5."
   ]
  },
  {
   "cell_type": "code",
   "execution_count": 7,
   "id": "4502d06a",
   "metadata": {},
   "outputs": [
    {
     "name": "stdout",
     "output_type": "stream",
     "text": [
      "[[ 1.05897392  1.12451421 -1.59842411]\n",
      " [-1.59511335  0.80777167 -0.2441219 ]\n",
      " [ 0.84498054 -1.03474184 -1.76914071]\n",
      " [-1.48165586 -2.14336975  1.47388148]\n",
      " [-1.30076576 -1.80660722  0.60101893]\n",
      " [-0.18978071 -2.44205399  1.14946659]\n",
      " [ 1.11470514 -1.41923201 -1.58973745]\n",
      " [ 1.43738222  0.17992844 -0.54732377]\n",
      " [-1.21122347  0.14964335 -0.25077705]\n",
      " [-0.69511557  0.99157709 -0.60312376]]\n",
      "[1.05897392 0.80777167 0.84498054 1.47388148 0.60101893 1.14946659\n",
      " 1.11470514 0.17992844 0.14964335 0.99157709]\n"
     ]
    }
   ],
   "source": [
    "a = np.random.randn(10, 3)\n",
    "print(a)\n",
    "print(a[np.abs(a - 0.5) - np.abs(a - 0.5).min(axis = 1, keepdims = True) == 0])\n"
   ]
  },
  {
   "cell_type": "markdown",
   "id": "12d33264",
   "metadata": {},
   "source": [
    "### 3. Создайте двумерный массив 6x6, заполненный случайными значениями. Сумму по каждой строке поделите на максимальный элемент из столбца с тем же индексом."
   ]
  },
  {
   "cell_type": "code",
   "execution_count": 8,
   "id": "12b00e48",
   "metadata": {},
   "outputs": [
    {
     "name": "stdout",
     "output_type": "stream",
     "text": [
      "[[ 6.98194058e-01  4.82819479e-01 -1.01397853e+00 -2.26937576e-03\n",
      "   1.15290552e+00  7.17615556e-01]\n",
      " [ 1.47783439e+00 -1.43578005e-01  1.80240939e-01  6.69335868e-01\n",
      "  -1.20754825e+00 -2.80547790e-01]\n",
      " [ 1.27648526e+00  1.92420927e+00 -2.96385121e-01  3.48326395e-01\n",
      "   8.26626170e-01 -1.07681190e+00]\n",
      " [-8.07584669e-01  7.41962443e-01 -4.00608692e-01  2.23321991e+00\n",
      "   5.33293789e-01 -2.31714609e+00]\n",
      " [ 2.38435648e-01 -1.01528409e+00 -5.26148571e-01 -1.02357561e+00\n",
      "   1.01879407e+00  1.15119329e-01]\n",
      " [ 9.39094753e-01 -9.91971306e-01  8.60043957e-01 -9.59298582e-01\n",
      "  -2.44590261e-01  1.04441679e+00]]\n",
      "[ 1.37720893  0.36157042  3.49104258 -0.00755112 -1.03448131  0.62015027]\n"
     ]
    }
   ],
   "source": [
    "a = np.random.randn(6, 6)\n",
    "print(a)\n",
    "b = a.sum(axis=1)\n",
    "c = a.max(axis=0)\n",
    "print(b / c)"
   ]
  },
  {
   "cell_type": "markdown",
   "id": "97f2db21",
   "metadata": {},
   "source": [
    "### 4. На примере массива x = np.array([6, 2, 0, 3, 0, 0, 5, 7, 0]) найдите максимальный элемент в массиве среди элементов, перед которыми стоит ноль."
   ]
  },
  {
   "cell_type": "code",
   "execution_count": 9,
   "id": "89c75627",
   "metadata": {},
   "outputs": [
    {
     "name": "stdout",
     "output_type": "stream",
     "text": [
      "5\n"
     ]
    }
   ],
   "source": [
    "x = np.array([6, 2, 0, 3, 0, 0, 5, 7, 0])\n",
    "print(((x[1:])[x[0:-1] == 0]).max())"
   ]
  },
  {
   "cell_type": "markdown",
   "id": "c777cac7",
   "metadata": {},
   "source": [
    "### 5. Пусть заданы два массива x = np.ones(10) и i = np.array([0, 1, 2, 3, 5, 5, 5, 8]). Прибавьте единицу к тем элементам массива x, индексы которых указаны в массиве i. В случае, если некоторый индекс встретился в массиве i несколько раз, прибавьте к соответствующему элементу массива x число вхождений данного индекса в массив i."
   ]
  },
  {
   "cell_type": "code",
   "execution_count": 11,
   "id": "2c063001",
   "metadata": {},
   "outputs": [
    {
     "name": "stdout",
     "output_type": "stream",
     "text": [
      "[2. 2. 2. 2. 1. 4. 1. 1. 2. 1.]\n"
     ]
    }
   ],
   "source": [
    "x = np.ones(10)\n",
    "i = np.array([0, 1, 2, 3, 5, 5, 5, 8])\n",
    "print(x + np.eye(10)[i].sum(axis = 0))"
   ]
  },
  {
   "cell_type": "markdown",
   "id": "aa90d441",
   "metadata": {},
   "source": [
    "### 6. Сколько вы можете предложить способов округлить значения в массиве до ближайшего целого?"
   ]
  },
  {
   "cell_type": "code",
   "execution_count": 13,
   "id": "b139c315",
   "metadata": {},
   "outputs": [
    {
     "name": "stdout",
     "output_type": "stream",
     "text": [
      "[6.10467339 1.31813369 5.24702716 8.17389846 5.37703781 4.73753203\n",
      " 4.94840167 2.45921178 5.39048056 6.63194814]\n",
      "[6. 1. 5. 8. 5. 5. 5. 2. 5. 7.]\n",
      "[6. 1. 5. 8. 5. 5. 5. 2. 5. 7.]\n"
     ]
    }
   ],
   "source": [
    "a = np.random.rand(10) * 10\n",
    "print(a)\n",
    "print(np.round(a))\n",
    "print(a.round())"
   ]
  },
  {
   "cell_type": "markdown",
   "id": "98ead4ea",
   "metadata": {},
   "source": [
    "# kNN"
   ]
  },
  {
   "cell_type": "code",
   "execution_count": 12,
   "id": "3ed5b731",
   "metadata": {},
   "outputs": [],
   "source": [
    "from sklearn.datasets import fetch_openml\n",
    "\n",
    "#Загрузка может занять около минуты\n",
    "images, labels = fetch_openml('mnist_784', return_X_y=True, as_frame=False)"
   ]
  },
  {
   "cell_type": "code",
   "execution_count": 13,
   "id": "cdda8b59",
   "metadata": {},
   "outputs": [
    {
     "data": {
      "text/plain": [
       "(70000, 784)"
      ]
     },
     "execution_count": 13,
     "metadata": {},
     "output_type": "execute_result"
    }
   ],
   "source": [
    "images.shape"
   ]
  },
  {
   "cell_type": "code",
   "execution_count": 14,
   "id": "e934a589",
   "metadata": {},
   "outputs": [
    {
     "data": {
      "text/plain": [
       "(70000,)"
      ]
     },
     "execution_count": 14,
     "metadata": {},
     "output_type": "execute_result"
    }
   ],
   "source": [
    "labels.shape"
   ]
  },
  {
   "cell_type": "code",
   "execution_count": 15,
   "id": "43aa41ea",
   "metadata": {
    "scrolled": true
   },
   "outputs": [
    {
     "data": {
      "image/png": "[encoded data removed]",
      "text/plain": [
       "<Figure size 640x480 with 1 Axes>"
      ]
     },
     "metadata": {},
     "output_type": "display_data"
    }
   ],
   "source": [
    "import matplotlib.pyplot as plt\n",
    "\n",
    "i = 125\n",
    "plt.imshow(images[i].reshape(28, 28), cmap='Greys_r')\n",
    "plt.title('Number ' + labels[i])\n",
    "plt.show()"
   ]
  },
  {
   "cell_type": "code",
   "execution_count": 16,
   "id": "9e5e9699",
   "metadata": {},
   "outputs": [],
   "source": [
    "train_size = 1000\n",
    "train_images = images[:train_size]\n",
    "train_labels = labels[:train_size].astype(int)"
   ]
  },
  {
   "cell_type": "code",
   "execution_count": 17,
   "id": "28593c4d",
   "metadata": {},
   "outputs": [],
   "source": [
    "test_size = 100\n",
    "test_images = images[-test_size:]\n",
    "test_labels = labels[-test_size:].astype(int)"
   ]
  },
  {
   "cell_type": "code",
   "execution_count": 18,
   "id": "6d9aa999",
   "metadata": {},
   "outputs": [
    {
     "name": "stdout",
     "output_type": "stream",
     "text": [
      "(100, 784) (1000, 784)\n"
     ]
    }
   ],
   "source": [
    "print(test_images.shape, train_images.shape)"
   ]
  },
  {
   "cell_type": "code",
   "execution_count": 19,
   "id": "24b7cb28",
   "metadata": {},
   "outputs": [],
   "source": [
    "from scipy.spatial.distance import cdist\n",
    "from sklearn.metrics import accuracy_score\n",
    "\n",
    "def kNN(train, train_labels, predict, k = 3, metric = \"euclidean\"):\n",
    "    distances = cdist(predict, train, metric = metric)\n",
    "    best = np.argsort(distances)[:, :k] \n",
    "    best_labels = train_labels[best]\n",
    "\n",
    "    available_labels = np.unique(train_labels)\n",
    "    answers = np.concatenate([(best_labels == i).sum(axis = 1, keepdims = True) for i in available_labels], axis = 1)\n",
    "    answers = answers.argmax(axis = 1)\n",
    "\n",
    "    return available_labels[answers]"
   ]
  },
  {
   "cell_type": "code",
   "execution_count": 22,
   "id": "2af4a885",
   "metadata": {},
   "outputs": [],
   "source": [
    "metrics = [\"euclidean\", \"cosine\", \"jaccard\", \"jensenshannon\"]"
   ]
  },
  {
   "cell_type": "code",
   "execution_count": 23,
   "id": "494016c9",
   "metadata": {},
   "outputs": [
    {
     "data": {
      "image/png": "[encoded data removed]",
      "text/plain": [
       "<Figure size 640x480 with 1 Axes>"
      ]
     },
     "metadata": {},
     "output_type": "display_data"
    }
   ],
   "source": [
    "for i, metric in enumerate(metrics):\n",
    "    K = list(range(1, 50))\n",
    "    scores = []\n",
    "    for k in K:\n",
    "        predict = kNN(train_images, train_labels, test_images, k = k, metric = metric)\n",
    "        scores.append(accuracy_score(test_labels, predict))\n",
    "    plt.plot(K, scores, label = metric)\n",
    "\n",
    "plt.legend()\n",
    "plt.xlabel(\"k\")\n",
    "plt.ylabel(\"Accuracy\")\n",
    "plt.show()"
   ]
  },
  {
   "cell_type": "code",
   "execution_count": null,
   "id": "8c10cc85",
   "metadata": {},
   "outputs": [],
   "source": [
    "def cdist(X, Y):\n",
    "    X1 = X.reshape((X.shape[0], 1, -1)).broadcast_to((X.shape[0], Y.shape[0], -1))\n",
    "    dist = ((X1 - Y) ** 2).sum(axis = -1) ** 0.5\n",
    "    return dist"
   ]
  }
 ],
 "metadata": {
  "kernelspec": {
   "display_name": "Python 3.8.13 ('work')",
   "language": "python",
   "name": "python3"
  },
  "language_info": {
   "codemirror_mode": {
    "name": "ipython",
    "version": 3
   },
   "file_extension": ".py",
   "mimetype": "text/x-python",
   "name": "python",
   "nbconvert_exporter": "python",
   "pygments_lexer": "ipython3",
   "version": "3.8.13"
  },
  "vscode": {
   "interpreter": {
    "hash": "03f2ea4b05986290bcee92deb80a79dfec94b15ecccc271dc480f29be44b9c5f"
   }
  }
 },
 "nbformat": 4,
 "nbformat_minor": 5
}
